{
 "cells": [
  {
   "cell_type": "code",
   "execution_count": 1,
   "metadata": {},
   "outputs": [],
   "source": [
    "import trade\n",
    "from web3 import Web3"
   ]
  },
  {
   "cell_type": "markdown",
   "metadata": {},
   "source": [
    "1. 메인계정이 contract를 하나 deploy 해둠\n",
    "2. buy 계정이 eth지불하면 contract ownership을 가져오고 buy_nft를 실행\n",
    "3. contract ownership을 다시 메인계정으로 옮김"
   ]
  },
  {
   "cell_type": "code",
   "execution_count": 2,
   "metadata": {},
   "outputs": [],
   "source": [
    "###### FOR TESTING ######\n",
    "network = 'HTTP://127.0.0.1:8545'\n",
    "w3 = Web3(Web3.HTTPProvider(network))\n",
    "buy_account = w3.eth.accounts[2]\n",
    "sell_account = w3.eth.accounts[3]\n",
    "test = trade.NFT_trading(network, buy_account, sell_account)"
   ]
  },
  {
   "cell_type": "code",
   "execution_count": 22,
   "metadata": {},
   "outputs": [
    {
     "data": {
      "text/plain": [
       "''"
      ]
     },
     "execution_count": 22,
     "metadata": {},
     "output_type": "execute_result"
    }
   ],
   "source": [
    "test.mint_contract.functions"
   ]
  },
  {
   "cell_type": "code",
   "execution_count": 16,
   "metadata": {},
   "outputs": [
    {
     "data": {
      "text/plain": [
       "(HexBytes('0xb8b1c61e39d4cb8b872a880a4604e4b129262921d9e43080f533fba262996f31'),\n",
       " HexBytes('0x392c08a2509a0dcf857a57c87bf2411f950e7741328368ee6ada603a0de24fe3'))"
      ]
     },
     "execution_count": 16,
     "metadata": {},
     "output_type": "execute_result"
    }
   ],
   "source": [
    "test.buy_nft(\"gunu2\",10)"
   ]
  }
 ],
 "metadata": {
  "interpreter": {
   "hash": "cbed5c242041097bc005c9bd1c62f9e18ba3a3a720397649e143f439d93b19b3"
  },
  "kernelspec": {
   "display_name": "Python 3.9.12 ('block')",
   "language": "python",
   "name": "python3"
  },
  "language_info": {
   "codemirror_mode": {
    "name": "ipython",
    "version": 3
   },
   "file_extension": ".py",
   "mimetype": "text/x-python",
   "name": "python",
   "nbconvert_exporter": "python",
   "pygments_lexer": "ipython3",
   "version": "3.9.12"
  },
  "orig_nbformat": 4
 },
 "nbformat": 4,
 "nbformat_minor": 2
}
